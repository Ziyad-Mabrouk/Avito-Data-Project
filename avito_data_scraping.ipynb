{
 "cells": [
  {
   "cell_type": "markdown",
   "metadata": {},
   "source": [
    "<h1>Data Scraping From Avito.ma</h1>"
   ]
  },
  {
   "cell_type": "markdown",
   "metadata": {},
   "source": [
    "<p>Made by: Mabrouk Ziyad <strong>&</strong> Quehlaoui Mohamed</p>\n",
    "<p>Supervised by: Pr. El Asri Ikram</p>"
   ]
  },
  {
   "cell_type": "markdown",
   "metadata": {},
   "source": [
    "<h3>Import Necessary Librairies:</h3>"
   ]
  },
  {
   "cell_type": "code",
   "execution_count": 1,
   "metadata": {},
   "outputs": [],
   "source": [
    "import csv\n",
    "import pandas as pd\n",
    "from time import sleep\n",
    "from selenium import webdriver\n",
    "from selenium.webdriver.chrome.service import Service\n",
    "from selenium.webdriver.common.by import By"
   ]
  },
  {
   "cell_type": "markdown",
   "metadata": {},
   "source": [
    "<h3>Prepare driver for Selenium:</h3>"
   ]
  },
  {
   "cell_type": "code",
   "execution_count": 55,
   "metadata": {},
   "outputs": [],
   "source": [
    "brave_path = r\"C:\\Program Files\\BraveSoftware\\Brave-Browser\\Application\\brave.exe\"\n",
    "webdriver_path = './chromedriver.exe'\n",
    "options = webdriver.ChromeOptions()\n",
    "# Add the --enable-chrome-browser-cloud-management flag to avoid an error\n",
    "options.add_argument('--enable-chrome-browser-cloud-management')\n",
    "options.binary_location = brave_path\n",
    "service = Service(webdriver_path)\n",
    "driver = webdriver.Chrome(service=service, options=options)"
   ]
  },
  {
   "cell_type": "markdown",
   "metadata": {},
   "source": [
    "<h3>Access the website (avito.ma):</h3>"
   ]
  },
  {
   "cell_type": "code",
   "execution_count": 3,
   "metadata": {},
   "outputs": [],
   "source": [
    "driver.get(\"https://www.avito.ma/fr/maroc/voitures_d_occasion-%C3%A0_vendre\")"
   ]
  },
  {
   "cell_type": "markdown",
   "metadata": {},
   "source": [
    "<h3>Get listings' links for the entire page:</h3>"
   ]
  },
  {
   "cell_type": "code",
   "execution_count": 4,
   "metadata": {},
   "outputs": [
    {
     "data": {
      "text/plain": [
       "35"
      ]
     },
     "execution_count": 4,
     "metadata": {},
     "output_type": "execute_result"
    }
   ],
   "source": [
    "listings = driver.find_elements(By.XPATH, '//div[@class=\"sc-1nre5ec-1 crKvIr listing\"]/a')\n",
    "len(listings)"
   ]
  },
  {
   "cell_type": "code",
   "execution_count": 5,
   "metadata": {},
   "outputs": [
    {
     "name": "stdout",
     "output_type": "stream",
     "text": [
      "https://www.avito.ma/fr/bourgogne/voitures_d'occasion/Lexus_LX_Essence_Automatique_2010_%C3%A0_Casablanca_45242514.htm\n",
      "https://www.avito.ma/fr/2_mars/voitures_d'occasion/BMW_S%C3%A9rie_1_Diesel_Manuelle_2009_%C3%A0_Casablanca_54538226.htm\n",
      "https://www.avito.ma/fr/belv%C3%A9d%C3%A8re/voitures_d'occasion/Ford_Kuga_Diesel_Manuelle_2016_%C3%A0_Casablanca_37627750.htm\n",
      "https://www.avito.ma/fr/2_mars/voitures_d'occasion/Kia_Rio_Essence_Manuelle_2008_%C3%A0_Casablanca_52530569.htm\n",
      "https://www.avito.ma/fr/a%C3%AFn_chock/voitures_d'occasion/Mercedes_classe_Ml_Diesel__49336734.htm\n",
      "https://www.avito.ma/fr/a%C3%AFn_chock/voitures_d'occasion/Volkswagen_Tiguan_R_line_allemande_2015_52006664.htm\n",
      "https://www.avito.ma/fr/a%C3%AFn_chock/voitures_d'occasion/Volkswagen_Passat_Diesel_Automatique_2022_54684619.htm\n",
      "https://www.avito.ma/fr/bourgogne/voitures_d'occasion/CITRO%C3%8BN_NEMO_PREMIERE_MAIN_54413846.htm\n",
      "https://www.avito.ma/fr/belv%C3%A9d%C3%A8re/voitures_d'occasion/Audi_Q5_Diesel_Automatique_2019_%C3%A0_Casablanca_43735453.htm\n",
      "https://www.avito.ma/fr/hay_riad/voitures_d'occasion/Passat_CC_automatique__53483285.htm\n",
      "https://www.avito.ma/fr/bourgogne/voitures_d'occasion/Porsche_Cayenne_Diesel_Automatique_2016_44307358.htm\n",
      "https://www.avito.ma/fr/californie/voitures_d'occasion/Mercedes_Benz_Classe_C_Diesel_Automatique_2014_54688794.htm\n",
      "https://www.avito.ma/fr/hassan/voitures_d'occasion/Nissan_Qashqai_Diesel_Automatique_2016_%C3%A0_Rabat_54276701.htm\n",
      "https://www.avito.ma/fr/ben_serguaou/voitures_d'occasion/Mercedes_classe_e_coup%C3%A8_53711932.htm\n",
      "https://www.avito.ma/fr/a%C3%AFn_chock/voitures_d'occasion/Audi_A3_S_line_quattro__47966265.htm\n",
      "https://www.avito.ma/fr/a%C3%AFn_chock/voitures_d'occasion/Audi_A6_Diesel_Automatique_2020_%C3%A0_Casablanca_54545732.htm\n",
      "https://www.avito.ma/fr/autre_secteur/voitures_d'occasion/KIFAL___AUDI_A3_Sportback_54546790.htm\n",
      "https://www.avito.ma/fr/centre_ville/voitures_d'occasion/Audi_RSQ8__53846164.htm\n",
      "https://www.avito.ma/fr/hay_riad/voitures_d'occasion/Volvo_2015_7cv_40v_54706202.htm\n",
      "https://www.avito.ma/fr/a%C3%AFn_chock/voitures_d'occasion/polo_diesel__54547346.htm\n",
      "https://www.avito.ma/fr/2_mars/voitures_d'occasion/Fiat_500_Diesel_Manuelle_2015_%C3%A0_Casablanca_54567872.htm\n",
      "https://www.avito.ma/fr/agdal/voitures_d'occasion/Seat_Arona_54563687.htm\n",
      "https://www.avito.ma/fr/a%C3%AFn_chock/voitures_d'occasion/Nissan_Pathfinder_1er_main___49336435.htm\n",
      "https://www.avito.ma/fr/centre_ville/voitures_d'occasion/Volkswagen_Polo_Diesel_Automatique_2020_%C3%A0_Tanger_51372755.htm\n",
      "https://www.avito.ma/fr/hay_riad/voitures_d'occasion/BMW_S%C3%A9rie_5_Diesel_Automatique_2022_%C3%A0_Rabat_54278812.htm\n",
      "https://www.avito.ma/fr/anfa/voitures_d'occasion/Toyota_Yaris_Essence_Manuelle_2019_%C3%A0_Casablanca_54692610.htm\n",
      "https://www.avito.ma/fr/marjane/voitures_d'occasion/Ford_Focus_Trend_Plus__04_2018__54675128.htm\n",
      "https://www.avito.ma/fr/centre/voitures_d'occasion/PEUGEOT_508_ACTIVE_AUTOMATIQUE_DARIBA700_TTOPTIONS_44645632.htm\n",
      "https://www.avito.ma/fr/al_hadiqa/voitures_d'occasion/Toyota_Corola_2008_54467990.htm\n",
      "https://www.avito.ma/fr/hay_el_fath/voitures_d'occasion/Renault_Clio_Diesel_Manuelle_2019_%C3%A0_Rabat_54169947.htm\n",
      "https://www.avito.ma/fr/a%C3%AFn_chock/voitures_d'occasion/range_rover_autobiographie__50305074.htm\n",
      "https://www.avito.ma/fr/amelkis/voitures_d'occasion/BMW_S%C3%A9rie_1_Essence_Manuelle_2009_%C3%A0_Marrakech_54706197.htm\n",
      "https://www.avito.ma/fr/el_houda/voitures_d'occasion/Ford_Focus_St_Line_Automatique_2022_37000km_54043232.htm\n",
      "https://www.avito.ma/fr/narjis/voitures_d'occasion/Ford_Fiesta_Diesel_Manuelle_2018_%C3%A0_F%C3%A8s_54192750.htm\n",
      "https://www.avito.ma/fr/autre_secteur/voitures_d'occasion/KIFAL___VOLKSWAGEN_CC_54615807.htm\n"
     ]
    }
   ],
   "source": [
    "article_links = []\n",
    "for listing in listings:\n",
    "    print(listing.get_attribute('href'))\n",
    "    article_links.append(listing.get_attribute('href'))"
   ]
  },
  {
   "cell_type": "markdown",
   "metadata": {},
   "source": [
    "<h3>Go to the next page:</h3>"
   ]
  },
  {
   "cell_type": "code",
   "execution_count": 6,
   "metadata": {},
   "outputs": [],
   "source": [
    "next_page = driver.find_elements(By.XPATH, '//div[@class=\"sc-2y0ggl-0 hInuCx\"]/a')[-1]\n",
    "next_page.click()"
   ]
  },
  {
   "cell_type": "code",
   "execution_count": 7,
   "metadata": {},
   "outputs": [
    {
     "data": {
      "text/plain": [
       "'2671'"
      ]
     },
     "execution_count": 7,
     "metadata": {},
     "output_type": "execute_result"
    }
   ],
   "source": [
    "num_pages = driver.find_elements(By.XPATH, '//div[@class=\"sc-2y0ggl-0 hInuCx\"]/a')[-2]\n",
    "num_pages.text"
   ]
  },
  {
   "cell_type": "markdown",
   "metadata": {},
   "source": [
    "<h5>There is 2671 pages of results, each with 35 listings!</h5>"
   ]
  },
  {
   "cell_type": "code",
   "execution_count": 10,
   "metadata": {},
   "outputs": [
    {
     "data": {
      "text/plain": [
       "\"https://www.avito.ma/fr/bourgogne/voitures_d'occasion/Lexus_LX_Essence_Automatique_2010_%C3%A0_Casablanca_45242514.htm\""
      ]
     },
     "execution_count": 10,
     "metadata": {},
     "output_type": "execute_result"
    }
   ],
   "source": [
    "article_links[0]"
   ]
  },
  {
   "cell_type": "markdown",
   "metadata": {},
   "source": [
    "<h3>Accessing the listing's link and collecting the informations:</h3>"
   ]
  },
  {
   "cell_type": "code",
   "execution_count": 56,
   "metadata": {},
   "outputs": [],
   "source": [
    "driver.get(article_links[0])"
   ]
  },
  {
   "cell_type": "code",
   "execution_count": 57,
   "metadata": {},
   "outputs": [
    {
     "data": {
      "text/plain": [
       "'Toyota Corolla Hybride Automatique 2019 à Tétouan'"
      ]
     },
     "execution_count": 57,
     "metadata": {},
     "output_type": "execute_result"
    }
   ],
   "source": [
    "title = driver.find_element(By.XPATH, '//div[@class=\"sc-1g3sn3w-9 kvOteU\"]/h1').text\n",
    "title"
   ]
  },
  {
   "cell_type": "code",
   "execution_count": 58,
   "metadata": {},
   "outputs": [
    {
     "data": {
      "text/plain": [
       "'205\\u202f000 DH'"
      ]
     },
     "execution_count": 58,
     "metadata": {},
     "output_type": "execute_result"
    }
   ],
   "source": [
    "price = driver.find_element(By.XPATH, '//div[@class=\"sc-1g3sn3w-10 leGvyq\"]/p').text\n",
    "price"
   ]
  },
  {
   "cell_type": "code",
   "execution_count": 59,
   "metadata": {},
   "outputs": [
    {
     "data": {
      "text/plain": [
       "'Tétouan'"
      ]
     },
     "execution_count": 59,
     "metadata": {},
     "output_type": "execute_result"
    }
   ],
   "source": [
    "city = driver.find_element(By.XPATH, '//span[@class=\"sc-1x0vz2r-0 iotEHk\"]').text\n",
    "city"
   ]
  },
  {
   "cell_type": "code",
   "execution_count": 65,
   "metadata": {},
   "outputs": [
    {
     "data": {
      "text/plain": [
       "('Hybride', 'Automatique', '8 CV')"
      ]
     },
     "execution_count": 65,
     "metadata": {},
     "output_type": "execute_result"
    }
   ],
   "source": [
    "infos = driver.find_elements(By.XPATH, '//span[@class=\"sc-1x0vz2r-0 kQHNss\"]')\n",
    "infos = [info.text for info in infos]\n",
    "carburant = None\n",
    "boite_vitesse = None\n",
    "puissance_fiscale = None\n",
    "\n",
    "for info in infos:\n",
    "    if 'Automatique' in info:\n",
    "        boite_vitesse = 'Automatique'\n",
    "    elif 'Manuelle' in info:\n",
    "        boite_vitesse = 'Manuelle'\n",
    "\n",
    "    if 'Essence' in info:\n",
    "        carburant = 'Essence'\n",
    "    elif 'Diesel' in info:\n",
    "        carburant = 'Diesel'\n",
    "    elif 'Hybride' in info:\n",
    "        carburant = 'Hybride'\n",
    "\n",
    "    if 'CV' in info:\n",
    "        puissance_fiscale = info\n",
    "\n",
    "carburant, boite_vitesse, puissance_fiscale\n"
   ]
  },
  {
   "cell_type": "code",
   "execution_count": 63,
   "metadata": {},
   "outputs": [
    {
     "data": {
      "text/plain": [
       "{'Type': \"Voitures d'occasion, à vendre\",\n",
       " 'Secteur': 'Safir',\n",
       " 'Origine': 'WW au Maroc',\n",
       " 'État': 'Neuf',\n",
       " 'Marque': 'Toyota',\n",
       " 'Modèle': 'Corolla',\n",
       " 'Année-Modèle': '2019',\n",
       " 'Nombre de portes': '5',\n",
       " 'Première main': 'Non',\n",
       " 'Kilométrage': '50 000 - 54 999'}"
      ]
     },
     "execution_count": 63,
     "metadata": {},
     "output_type": "execute_result"
    }
   ],
   "source": [
    "other_infos_titles = driver.find_elements(By.XPATH, '//span[@class=\"sc-1x0vz2r-0 jZyObG\"]')\n",
    "other_infos_titles = [info.text for info in other_infos_titles]\n",
    "\n",
    "other_infos_values = driver.find_elements(By.XPATH, '//span[@class=\"sc-1x0vz2r-0 gSLYtF\"]')\n",
    "other_infos_values = [info.text for info in other_infos_values]\n",
    "\n",
    "other_infos = dict(zip(other_infos_titles, other_infos_values))\n",
    "other_infos"
   ]
  },
  {
   "cell_type": "code",
   "execution_count": 62,
   "metadata": {},
   "outputs": [
    {
     "data": {
      "text/plain": [
       "['Système De Navigation/GPS',\n",
       " 'Verrouillage Centralisé À Distance',\n",
       " 'Airbags',\n",
       " 'Caméra De Recul',\n",
       " 'Vitres Électriques',\n",
       " 'Régulateur De Vitesse',\n",
       " 'Ordinateur De Bord',\n",
       " 'Radar De Recul',\n",
       " 'Jantes Aluminium',\n",
       " 'Toit Ouvrant',\n",
       " 'CD/MP3/Bluetooth',\n",
       " 'ABS',\n",
       " 'Climatisation',\n",
       " 'Limiteur De Vitesse',\n",
       " 'ESP']"
      ]
     },
     "execution_count": 62,
     "metadata": {},
     "output_type": "execute_result"
    }
   ],
   "source": [
    "Equipements = driver.find_elements(By.XPATH, '//span[@class=\"sc-1x0vz2r-0 bXFCIH\"]')\n",
    "Equipements = [info.text for info in Equipements]\n",
    "Equipements"
   ]
  },
  {
   "cell_type": "code",
   "execution_count": 61,
   "metadata": {},
   "outputs": [
    {
     "data": {
      "text/plain": [
       "'auto confort 44'"
      ]
     },
     "execution_count": 61,
     "metadata": {},
     "output_type": "execute_result"
    }
   ],
   "source": [
    "seller = driver.find_element(By.XPATH, '//p[@class=\"sc-1x0vz2r-0 fUTtTl sc-1l0do2b-9 bkvpcU\"]').text\n",
    "seller"
   ]
  },
  {
   "cell_type": "code",
   "execution_count": 69,
   "metadata": {},
   "outputs": [
    {
     "data": {
      "text/plain": [
       "'9 Images'"
      ]
     },
     "execution_count": 69,
     "metadata": {},
     "output_type": "execute_result"
    }
   ],
   "source": [
    "imgs_number = driver.find_element(By.XPATH, '//p[@class=\"sc-1x0vz2r-0 gHEfHI sc-10jmm47-1 eLMGru\"]').text\n",
    "imgs_number"
   ]
  },
  {
   "cell_type": "markdown",
   "metadata": {},
   "source": [
    "<h3>Create CSV file based on these informations:</h3>"
   ]
  },
  {
   "cell_type": "code",
   "execution_count": 70,
   "metadata": {},
   "outputs": [
    {
     "data": {
      "text/plain": [
       "['Titre',\n",
       " 'Vendeur',\n",
       " 'Prix',\n",
       " 'Ville',\n",
       " 'Carburant',\n",
       " 'Boite à vitesses',\n",
       " 'Puissance Fiscale',\n",
       " 'Nombre des images',\n",
       " 'Type',\n",
       " 'Secteur',\n",
       " 'Origine',\n",
       " 'État',\n",
       " 'Marque',\n",
       " 'Modèle',\n",
       " 'Année-Modèle',\n",
       " 'Nombre de portes',\n",
       " 'Première main',\n",
       " 'Kilométrage',\n",
       " 'Equipements']"
      ]
     },
     "execution_count": 70,
     "metadata": {},
     "output_type": "execute_result"
    }
   ],
   "source": [
    "csv_file = open('avito_data.csv', 'w', newline='', encoding='utf-8')\n",
    "csv_writer = csv.writer(csv_file)\n",
    "header = ['Titre','Vendeur','Prix','Ville','Carburant','Boite à vitesses','Puissance Fiscale', 'Nombre des images'] + other_infos_titles + ['Equipements']\n",
    "csv_writer.writerow(header)\n",
    "header"
   ]
  },
  {
   "cell_type": "markdown",
   "metadata": {},
   "source": [
    "<h3>Writing the first row of data:</h3>"
   ]
  },
  {
   "cell_type": "code",
   "execution_count": 73,
   "metadata": {},
   "outputs": [],
   "source": [
    "data = [title, seller, price, city, carburant, boite_vitesse, puissance_fiscale, imgs_number] + [other_infos['Type']] + [other_infos['Secteur']] + [other_infos['Origine']] + [other_infos['État']] + [other_infos['Marque']] + [other_infos['Modèle']] + [other_infos['Année-Modèle']] + [other_infos['Nombre de portes']] + [other_infos['Première main']] + [other_infos['Kilométrage']]+ [Equipements]\n",
    "csv_writer.writerow(data)\n",
    "csv_file.flush()"
   ]
  },
  {
   "cell_type": "code",
   "execution_count": 74,
   "metadata": {},
   "outputs": [
    {
     "data": {
      "text/html": [
       "<div>\n",
       "<style scoped>\n",
       "    .dataframe tbody tr th:only-of-type {\n",
       "        vertical-align: middle;\n",
       "    }\n",
       "\n",
       "    .dataframe tbody tr th {\n",
       "        vertical-align: top;\n",
       "    }\n",
       "\n",
       "    .dataframe thead th {\n",
       "        text-align: right;\n",
       "    }\n",
       "</style>\n",
       "<table border=\"1\" class=\"dataframe\">\n",
       "  <thead>\n",
       "    <tr style=\"text-align: right;\">\n",
       "      <th></th>\n",
       "      <th>Titre</th>\n",
       "      <th>Vendeur</th>\n",
       "      <th>Prix</th>\n",
       "      <th>Ville</th>\n",
       "      <th>Carburant</th>\n",
       "      <th>Boite à vitesses</th>\n",
       "      <th>Puissance Fiscale</th>\n",
       "      <th>Nombre des images</th>\n",
       "      <th>Type</th>\n",
       "      <th>Secteur</th>\n",
       "      <th>Origine</th>\n",
       "      <th>État</th>\n",
       "      <th>Marque</th>\n",
       "      <th>Modèle</th>\n",
       "      <th>Année-Modèle</th>\n",
       "      <th>Nombre de portes</th>\n",
       "      <th>Première main</th>\n",
       "      <th>Kilométrage</th>\n",
       "      <th>Equipements</th>\n",
       "    </tr>\n",
       "  </thead>\n",
       "  <tbody>\n",
       "    <tr>\n",
       "      <th>0</th>\n",
       "      <td>Toyota Corolla Hybride Automatique 2019 à Tétouan</td>\n",
       "      <td>auto confort 44</td>\n",
       "      <td>205 000 DH</td>\n",
       "      <td>Tétouan</td>\n",
       "      <td>Hybride</td>\n",
       "      <td>Automatique</td>\n",
       "      <td>8 CV</td>\n",
       "      <td>9 Images</td>\n",
       "      <td>Voitures d'occasion, à vendre</td>\n",
       "      <td>Safir</td>\n",
       "      <td>WW au Maroc</td>\n",
       "      <td>Neuf</td>\n",
       "      <td>Toyota</td>\n",
       "      <td>Corolla</td>\n",
       "      <td>2019</td>\n",
       "      <td>5</td>\n",
       "      <td>Non</td>\n",
       "      <td>50 000 - 54 999</td>\n",
       "      <td>['Système De Navigation/GPS', 'Verrouillage Ce...</td>\n",
       "    </tr>\n",
       "  </tbody>\n",
       "</table>\n",
       "</div>"
      ],
      "text/plain": [
       "                                               Titre          Vendeur  \\\n",
       "0  Toyota Corolla Hybride Automatique 2019 à Tétouan  auto confort 44   \n",
       "\n",
       "         Prix    Ville Carburant Boite à vitesses Puissance Fiscale  \\\n",
       "0  205 000 DH  Tétouan   Hybride      Automatique              8 CV   \n",
       "\n",
       "  Nombre des images                           Type Secteur      Origine  État  \\\n",
       "0          9 Images  Voitures d'occasion, à vendre   Safir  WW au Maroc  Neuf   \n",
       "\n",
       "   Marque   Modèle  Année-Modèle  Nombre de portes Première main  \\\n",
       "0  Toyota  Corolla          2019                 5           Non   \n",
       "\n",
       "       Kilométrage                                        Equipements  \n",
       "0  50 000 - 54 999  ['Système De Navigation/GPS', 'Verrouillage Ce...  "
      ]
     },
     "execution_count": 74,
     "metadata": {},
     "output_type": "execute_result"
    }
   ],
   "source": [
    "dataset = pd.read_csv('avito_data.csv')\n",
    "dataset"
   ]
  },
  {
   "cell_type": "markdown",
   "metadata": {},
   "source": [
    "<h3>Collecting the remaining links:</h3>"
   ]
  },
  {
   "cell_type": "code",
   "execution_count": 51,
   "metadata": {},
   "outputs": [],
   "source": [
    "driver.get('https://www.avito.ma/fr/maroc/voitures_d_occasion-%C3%A0_vendre')"
   ]
  },
  {
   "cell_type": "markdown",
   "metadata": {},
   "source": [
    "<h5>For time reasons, we will only stop at 100 pages!</h5>"
   ]
  },
  {
   "cell_type": "code",
   "execution_count": 52,
   "metadata": {},
   "outputs": [
    {
     "name": "stdout",
     "output_type": "stream",
     "text": [
      "page number:  1\n",
      "page number:  2\n",
      "page number:  3\n",
      "page number:  4\n",
      "page number:  5\n",
      "page number:  6\n",
      "page number:  7\n",
      "page number:  8\n",
      "page number:  9\n",
      "page number:  10\n",
      "page number:  11\n",
      "page number:  12\n",
      "page number:  13\n",
      "page number:  14\n",
      "page number:  15\n",
      "page number:  16\n",
      "page number:  17\n",
      "page number:  18\n",
      "page number:  19\n",
      "page number:  20\n",
      "page number:  21\n",
      "page number:  22\n",
      "page number:  23\n",
      "page number:  24\n",
      "page number:  25\n",
      "page number:  26\n",
      "page number:  27\n",
      "page number:  28\n",
      "page number:  29\n",
      "page number:  30\n",
      "page number:  31\n",
      "page number:  32\n",
      "page number:  33\n",
      "page number:  34\n",
      "page number:  35\n",
      "page number:  36\n",
      "page number:  37\n",
      "page number:  38\n",
      "page number:  39\n",
      "page number:  40\n",
      "page number:  41\n",
      "page number:  42\n",
      "page number:  43\n",
      "page number:  44\n",
      "page number:  45\n",
      "page number:  46\n",
      "page number:  47\n",
      "page number:  48\n",
      "page number:  49\n",
      "page number:  50\n",
      "page number:  51\n",
      "page number:  52\n",
      "page number:  53\n",
      "page number:  54\n",
      "page number:  55\n",
      "page number:  56\n",
      "page number:  57\n",
      "page number:  58\n",
      "page number:  59\n",
      "page number:  60\n",
      "page number:  61\n",
      "page number:  62\n",
      "page number:  63\n",
      "page number:  64\n",
      "page number:  65\n",
      "page number:  66\n",
      "page number:  67\n",
      "page number:  68\n",
      "page number:  69\n",
      "page number:  70\n",
      "page number:  71\n",
      "page number:  72\n",
      "page number:  73\n",
      "page number:  74\n",
      "page number:  75\n",
      "page number:  76\n",
      "page number:  77\n",
      "page number:  78\n",
      "page number:  79\n",
      "page number:  80\n",
      "page number:  81\n",
      "page number:  82\n",
      "page number:  83\n",
      "page number:  84\n",
      "page number:  85\n",
      "page number:  86\n",
      "page number:  87\n",
      "page number:  88\n",
      "page number:  89\n",
      "page number:  90\n",
      "page number:  91\n",
      "page number:  92\n",
      "page number:  93\n",
      "page number:  94\n",
      "page number:  95\n",
      "page number:  96\n",
      "page number:  97\n",
      "page number:  98\n",
      "page number:  99\n",
      "page number:  100\n"
     ]
    }
   ],
   "source": [
    "listings, article_links = [], []\n",
    "for i in range(100):\n",
    "    print(\"page number: \", i+1)\n",
    "    \n",
    "    listings = driver.find_elements(By.XPATH, '//div[@class=\"sc-1nre5ec-1 crKvIr listing\"]/a')\n",
    "\n",
    "    for listing in listings:\n",
    "        article_links.append(listing.get_attribute('href'))\n",
    "    \n",
    "    next_page = driver.find_elements(By.XPATH, '//div[@class=\"sc-2y0ggl-0 hInuCx\"]/a')[-1]\n",
    "    next_page.click()"
   ]
  },
  {
   "cell_type": "markdown",
   "metadata": {},
   "source": [
    "<h3>Collecting data for each link, and adding it into the CSV file:</h3>"
   ]
  },
  {
   "cell_type": "markdown",
   "metadata": {},
   "source": [
    "<h5>To avoid getting banned, we need to wait a random amount of time before accessing the next link!</h5>"
   ]
  },
  {
   "attachments": {
    "Screenshot 2024-03-19 213954.png": {
     "image/png": "[encoded data removed]"
    }
   },
   "cell_type": "markdown",
   "metadata": {},
   "source": [
    "![Screenshot 2024-03-19 213954.png](<attachment:Screenshot 2024-03-19 213954.png>)"
   ]
  },
  {
   "cell_type": "code",
   "execution_count": 76,
   "metadata": {},
   "outputs": [
    {
     "ename": "WebDriverException",
     "evalue": "Message: disconnected: not connected to DevTools\n  (failed to check if window was closed: disconnected: not connected to DevTools)\n  (Session info: chrome=122.0.6261.128)\nStacktrace:\n\tGetHandleVerifier [0x00007FF627D14C82+3505170]\n\t(No symbol) [0x00007FF627940852]\n\t(No symbol) [0x00007FF6277F4145]\n\t(No symbol) [0x00007FF6277E191F]\n\t(No symbol) [0x00007FF6277E1490]\n\t(No symbol) [0x00007FF6277F6271]\n\t(No symbol) [0x00007FF627877A89]\n\t(No symbol) [0x00007FF62785BC33]\n\t(No symbol) [0x00007FF62782D618]\n\t(No symbol) [0x00007FF62782E6B1]\n\tGetHandleVerifier [0x00007FF627D467DD+3708781]\n\tGetHandleVerifier [0x00007FF627D9FC5D+4074477]\n\tGetHandleVerifier [0x00007FF627D97DDF+4042095]\n\tGetHandleVerifier [0x00007FF627A6A136+708806]\n\t(No symbol) [0x00007FF62794CB0F]\n\t(No symbol) [0x00007FF627947D14]\n\t(No symbol) [0x00007FF627947E6C]\n\t(No symbol) [0x00007FF6279379A4]\n\tBaseThreadInitThunk [0x00007FFE9485257D+29]\n\tRtlUserThreadStart [0x00007FFE94F6AA58+40]\n",
     "output_type": "error",
     "traceback": [
      "\u001b[1;31m---------------------------------------------------------------------------\u001b[0m",
      "\u001b[1;31mWebDriverException\u001b[0m                        Traceback (most recent call last)",
      "Cell \u001b[1;32mIn[76], line 4\u001b[0m\n\u001b[0;32m      2\u001b[0m \u001b[38;5;28;01mfor\u001b[39;00m article_link \u001b[38;5;129;01min\u001b[39;00m article_links:\n\u001b[0;32m      3\u001b[0m     sleep(random\u001b[38;5;241m.\u001b[39mrandint(\u001b[38;5;241m5\u001b[39m, \u001b[38;5;241m10\u001b[39m)) \u001b[38;5;66;03m# sleep for 5 to 10 seconds to avoid being blocked\u001b[39;00m\n\u001b[1;32m----> 4\u001b[0m     \u001b[43mdriver\u001b[49m\u001b[38;5;241;43m.\u001b[39;49m\u001b[43mget\u001b[49m\u001b[43m(\u001b[49m\u001b[43marticle_link\u001b[49m\u001b[43m)\u001b[49m\n\u001b[0;32m      5\u001b[0m     \u001b[38;5;28;01mtry\u001b[39;00m:\n\u001b[0;32m      6\u001b[0m         Titre \u001b[38;5;241m=\u001b[39m driver\u001b[38;5;241m.\u001b[39mfind_element(By\u001b[38;5;241m.\u001b[39mXPATH, \u001b[38;5;124m'\u001b[39m\u001b[38;5;124m//div[@class=\u001b[39m\u001b[38;5;124m\"\u001b[39m\u001b[38;5;124msc-1g3sn3w-9 kvOteU\u001b[39m\u001b[38;5;124m\"\u001b[39m\u001b[38;5;124m]/h1\u001b[39m\u001b[38;5;124m'\u001b[39m)\u001b[38;5;241m.\u001b[39mtext\n",
      "File \u001b[1;32mc:\\Python311\\Lib\\site-packages\\selenium\\webdriver\\remote\\webdriver.py:357\u001b[0m, in \u001b[0;36mWebDriver.get\u001b[1;34m(self, url)\u001b[0m\n\u001b[0;32m    355\u001b[0m \u001b[38;5;28;01mdef\u001b[39;00m \u001b[38;5;21mget\u001b[39m(\u001b[38;5;28mself\u001b[39m, url: \u001b[38;5;28mstr\u001b[39m) \u001b[38;5;241m-\u001b[39m\u001b[38;5;241m>\u001b[39m \u001b[38;5;28;01mNone\u001b[39;00m:\n\u001b[0;32m    356\u001b[0m \u001b[38;5;250m    \u001b[39m\u001b[38;5;124;03m\"\"\"Loads a web page in the current browser session.\"\"\"\u001b[39;00m\n\u001b[1;32m--> 357\u001b[0m     \u001b[38;5;28;43mself\u001b[39;49m\u001b[38;5;241;43m.\u001b[39;49m\u001b[43mexecute\u001b[49m\u001b[43m(\u001b[49m\u001b[43mCommand\u001b[49m\u001b[38;5;241;43m.\u001b[39;49m\u001b[43mGET\u001b[49m\u001b[43m,\u001b[49m\u001b[43m \u001b[49m\u001b[43m{\u001b[49m\u001b[38;5;124;43m\"\u001b[39;49m\u001b[38;5;124;43murl\u001b[39;49m\u001b[38;5;124;43m\"\u001b[39;49m\u001b[43m:\u001b[49m\u001b[43m \u001b[49m\u001b[43murl\u001b[49m\u001b[43m}\u001b[49m\u001b[43m)\u001b[49m\n",
      "File \u001b[1;32mc:\\Python311\\Lib\\site-packages\\selenium\\webdriver\\remote\\webdriver.py:348\u001b[0m, in \u001b[0;36mWebDriver.execute\u001b[1;34m(self, driver_command, params)\u001b[0m\n\u001b[0;32m    346\u001b[0m response \u001b[38;5;241m=\u001b[39m \u001b[38;5;28mself\u001b[39m\u001b[38;5;241m.\u001b[39mcommand_executor\u001b[38;5;241m.\u001b[39mexecute(driver_command, params)\n\u001b[0;32m    347\u001b[0m \u001b[38;5;28;01mif\u001b[39;00m response:\n\u001b[1;32m--> 348\u001b[0m     \u001b[38;5;28;43mself\u001b[39;49m\u001b[38;5;241;43m.\u001b[39;49m\u001b[43merror_handler\u001b[49m\u001b[38;5;241;43m.\u001b[39;49m\u001b[43mcheck_response\u001b[49m\u001b[43m(\u001b[49m\u001b[43mresponse\u001b[49m\u001b[43m)\u001b[49m\n\u001b[0;32m    349\u001b[0m     response[\u001b[38;5;124m\"\u001b[39m\u001b[38;5;124mvalue\u001b[39m\u001b[38;5;124m\"\u001b[39m] \u001b[38;5;241m=\u001b[39m \u001b[38;5;28mself\u001b[39m\u001b[38;5;241m.\u001b[39m_unwrap_value(response\u001b[38;5;241m.\u001b[39mget(\u001b[38;5;124m\"\u001b[39m\u001b[38;5;124mvalue\u001b[39m\u001b[38;5;124m\"\u001b[39m, \u001b[38;5;28;01mNone\u001b[39;00m))\n\u001b[0;32m    350\u001b[0m     \u001b[38;5;28;01mreturn\u001b[39;00m response\n",
      "File \u001b[1;32mc:\\Python311\\Lib\\site-packages\\selenium\\webdriver\\remote\\errorhandler.py:229\u001b[0m, in \u001b[0;36mErrorHandler.check_response\u001b[1;34m(self, response)\u001b[0m\n\u001b[0;32m    227\u001b[0m         alert_text \u001b[38;5;241m=\u001b[39m value[\u001b[38;5;124m\"\u001b[39m\u001b[38;5;124malert\u001b[39m\u001b[38;5;124m\"\u001b[39m]\u001b[38;5;241m.\u001b[39mget(\u001b[38;5;124m\"\u001b[39m\u001b[38;5;124mtext\u001b[39m\u001b[38;5;124m\"\u001b[39m)\n\u001b[0;32m    228\u001b[0m     \u001b[38;5;28;01mraise\u001b[39;00m exception_class(message, screen, stacktrace, alert_text)  \u001b[38;5;66;03m# type: ignore[call-arg]  # mypy is not smart enough here\u001b[39;00m\n\u001b[1;32m--> 229\u001b[0m \u001b[38;5;28;01mraise\u001b[39;00m exception_class(message, screen, stacktrace)\n",
      "\u001b[1;31mWebDriverException\u001b[0m: Message: disconnected: not connected to DevTools\n  (failed to check if window was closed: disconnected: not connected to DevTools)\n  (Session info: chrome=122.0.6261.128)\nStacktrace:\n\tGetHandleVerifier [0x00007FF627D14C82+3505170]\n\t(No symbol) [0x00007FF627940852]\n\t(No symbol) [0x00007FF6277F4145]\n\t(No symbol) [0x00007FF6277E191F]\n\t(No symbol) [0x00007FF6277E1490]\n\t(No symbol) [0x00007FF6277F6271]\n\t(No symbol) [0x00007FF627877A89]\n\t(No symbol) [0x00007FF62785BC33]\n\t(No symbol) [0x00007FF62782D618]\n\t(No symbol) [0x00007FF62782E6B1]\n\tGetHandleVerifier [0x00007FF627D467DD+3708781]\n\tGetHandleVerifier [0x00007FF627D9FC5D+4074477]\n\tGetHandleVerifier [0x00007FF627D97DDF+4042095]\n\tGetHandleVerifier [0x00007FF627A6A136+708806]\n\t(No symbol) [0x00007FF62794CB0F]\n\t(No symbol) [0x00007FF627947D14]\n\t(No symbol) [0x00007FF627947E6C]\n\t(No symbol) [0x00007FF6279379A4]\n\tBaseThreadInitThunk [0x00007FFE9485257D+29]\n\tRtlUserThreadStart [0x00007FFE94F6AA58+40]\n"
     ]
    }
   ],
   "source": [
    "import random\n",
    "for article_link in article_links:\n",
    "    sleep(random.randint(5, 10)) # sleep for 5 to 10 seconds to avoid being blocked\n",
    "    driver.get(article_link)\n",
    "    try:\n",
    "        Titre = driver.find_element(By.XPATH, '//div[@class=\"sc-1g3sn3w-9 kvOteU\"]/h1').text\n",
    "        Vendeur = driver.find_element(By.XPATH, '//p[@class=\"sc-1x0vz2r-0 fUTtTl sc-1l0do2b-9 bkvpcU\"]').text\n",
    "        Prix = driver.find_element(By.XPATH, '//div[@class=\"sc-1g3sn3w-10 leGvyq\"]/p').text\n",
    "        Ville = driver.find_element(By.XPATH, '//span[@class=\"sc-1x0vz2r-0 iotEHk\"]').text\n",
    "        infos = driver.find_elements(By.XPATH, '//span[@class=\"sc-1x0vz2r-0 kQHNss\"]')\n",
    "        infos = [info.text for info in infos]\n",
    "        infos = driver.find_elements(By.XPATH, '//span[@class=\"sc-1x0vz2r-0 kQHNss\"]')\n",
    "        infos = [info.text for info in infos]\n",
    "        Carburant = None\n",
    "        Boite_à_vitesses = None\n",
    "        Puissance_fiscale = None\n",
    "        for info in infos:\n",
    "            if 'Automatique' in info:\n",
    "                Boite_à_vitesses = 'Automatique'\n",
    "            elif 'Manuelle' in info:\n",
    "                Boite_à_vitesses = 'Manuelle'\n",
    "\n",
    "            if 'Essence' in info:\n",
    "                Carburant = 'Essence'\n",
    "            elif 'Diesel' in info:\n",
    "                Carburant = 'Diesel'\n",
    "            elif 'Hybride' in info:\n",
    "                Carburant = 'Hybride'\n",
    "\n",
    "            if 'CV' in info:\n",
    "                Puissance_fiscale = info\n",
    "\n",
    "        Nombre_des_images = driver.find_element(By.XPATH, '//p[@class=\"sc-1x0vz2r-0 gHEfHI sc-10jmm47-1 eLMGru\"]').text\n",
    "        other_infos_titles = driver.find_elements(By.XPATH, '//span[@class=\"sc-1x0vz2r-0 jZyObG\"]')\n",
    "        other_infos_titles = [info.text for info in other_infos_titles]\n",
    "\n",
    "        other_infos_values = driver.find_elements(By.XPATH, '//span[@class=\"sc-1x0vz2r-0 gSLYtF\"]')\n",
    "        other_infos_values = [info.text for info in other_infos_values]\n",
    "\n",
    "        other_infos = dict(zip(other_infos_titles, other_infos_values))\n",
    "\n",
    "        Type = other_infos.get('Type', None)\n",
    "        Secteur = other_infos.get('Secteur', None)\n",
    "        Origine = other_infos.get('Origine', None)\n",
    "        État = other_infos.get('État', None)\n",
    "        Marque = other_infos.get('Marque', None)\n",
    "        Modèle = other_infos.get('Modèle', None)\n",
    "        Année_Modèle = other_infos.get('Année-Modèle', None)\n",
    "        Nombre_de_portes = other_infos.get('Nombre de portes', None)\n",
    "        Première_main = other_infos.get('Première main', None)\n",
    "        Kilométrage = other_infos.get('Kilométrage', None)\n",
    "\n",
    "        Equipements = driver.find_elements(By.XPATH, '//span[@class=\"sc-1x0vz2r-0 bXFCIH\"]')\n",
    "        Equipements = [info.text for info in Equipements]\n",
    "        data = [Titre, Vendeur, Prix, Ville, Carburant, Boite_à_vitesses, Puissance_fiscale, Nombre_des_images, Type, Secteur, Origine, État, Marque, Modèle, Année_Modèle, Nombre_de_portes, Première_main, Kilométrage] + [Equipements]\n",
    "        csv_writer.writerow(data)\n",
    "        csv_file.flush()\n",
    "    except:\n",
    "        pass"
   ]
  },
  {
   "cell_type": "markdown",
   "metadata": {},
   "source": [
    "<h3>Visualize our dataset:</h3>"
   ]
  },
  {
   "cell_type": "code",
   "execution_count": 78,
   "metadata": {},
   "outputs": [
    {
     "data": {
      "text/html": [
       "<div>\n",
       "<style scoped>\n",
       "    .dataframe tbody tr th:only-of-type {\n",
       "        vertical-align: middle;\n",
       "    }\n",
       "\n",
       "    .dataframe tbody tr th {\n",
       "        vertical-align: top;\n",
       "    }\n",
       "\n",
       "    .dataframe thead th {\n",
       "        text-align: right;\n",
       "    }\n",
       "</style>\n",
       "<table border=\"1\" class=\"dataframe\">\n",
       "  <thead>\n",
       "    <tr style=\"text-align: right;\">\n",
       "      <th></th>\n",
       "      <th>Titre</th>\n",
       "      <th>Vendeur</th>\n",
       "      <th>Prix</th>\n",
       "      <th>Ville</th>\n",
       "      <th>Carburant</th>\n",
       "      <th>Boite à vitesses</th>\n",
       "      <th>Puissance Fiscale</th>\n",
       "      <th>Nombre des images</th>\n",
       "      <th>Type</th>\n",
       "      <th>Secteur</th>\n",
       "      <th>Origine</th>\n",
       "      <th>État</th>\n",
       "      <th>Marque</th>\n",
       "      <th>Modèle</th>\n",
       "      <th>Année-Modèle</th>\n",
       "      <th>Nombre de portes</th>\n",
       "      <th>Première main</th>\n",
       "      <th>Kilométrage</th>\n",
       "      <th>Equipements</th>\n",
       "    </tr>\n",
       "  </thead>\n",
       "  <tbody>\n",
       "    <tr>\n",
       "      <th>0</th>\n",
       "      <td>Toyota Corolla Hybride Automatique 2019 à Tétouan</td>\n",
       "      <td>auto confort 44</td>\n",
       "      <td>205 000 DH</td>\n",
       "      <td>Tétouan</td>\n",
       "      <td>Hybride</td>\n",
       "      <td>Automatique</td>\n",
       "      <td>8 CV</td>\n",
       "      <td>9 Images</td>\n",
       "      <td>Voitures d'occasion, à vendre</td>\n",
       "      <td>Safir</td>\n",
       "      <td>WW au Maroc</td>\n",
       "      <td>Neuf</td>\n",
       "      <td>Toyota</td>\n",
       "      <td>Corolla</td>\n",
       "      <td>2019</td>\n",
       "      <td>5.0</td>\n",
       "      <td>Non</td>\n",
       "      <td>50 000 - 54 999</td>\n",
       "      <td>['Système De Navigation/GPS', 'Verrouillage Ce...</td>\n",
       "    </tr>\n",
       "    <tr>\n",
       "      <th>1</th>\n",
       "      <td>Toyota Corolla Hybride Automatique 2019 à Tétouan</td>\n",
       "      <td>auto confort 44</td>\n",
       "      <td>205 000 DH</td>\n",
       "      <td>Tétouan</td>\n",
       "      <td>Hybride</td>\n",
       "      <td>Automatique</td>\n",
       "      <td>8 CV</td>\n",
       "      <td>9 Images</td>\n",
       "      <td>Voitures d'occasion, à vendre</td>\n",
       "      <td>Safir</td>\n",
       "      <td>WW au Maroc</td>\n",
       "      <td>Neuf</td>\n",
       "      <td>Toyota</td>\n",
       "      <td>Corolla</td>\n",
       "      <td>2019</td>\n",
       "      <td>5.0</td>\n",
       "      <td>Non</td>\n",
       "      <td>50 000 - 54 999</td>\n",
       "      <td>['Ordinateur De Bord', 'Régulateur De Vitesse'...</td>\n",
       "    </tr>\n",
       "    <tr>\n",
       "      <th>2</th>\n",
       "      <td>Transport des denrées périssables</td>\n",
       "      <td>FROZEN carosserie frigorifique</td>\n",
       "      <td>1 DH</td>\n",
       "      <td>Casablanca</td>\n",
       "      <td>Diesel</td>\n",
       "      <td>Manuelle</td>\n",
       "      <td>6 CV</td>\n",
       "      <td>6 Images</td>\n",
       "      <td>Voitures d'occasion, à vendre</td>\n",
       "      <td>Aïn Chock</td>\n",
       "      <td>WW au Maroc</td>\n",
       "      <td>Très bon</td>\n",
       "      <td>Renault</td>\n",
       "      <td>express_van</td>\n",
       "      <td>2023</td>\n",
       "      <td>5.0</td>\n",
       "      <td>Oui</td>\n",
       "      <td>5 000 - 9 999</td>\n",
       "      <td>['Sièges Cuir', 'Ordinateur De Bord', 'Caméra ...</td>\n",
       "    </tr>\n",
       "    <tr>\n",
       "      <th>3</th>\n",
       "      <td>Jeep CJ 5 Diesel Manuelle 1990 à Fès</td>\n",
       "      <td>yassine</td>\n",
       "      <td>PRIX NON SPÉCIFIÉ</td>\n",
       "      <td>Fès</td>\n",
       "      <td>Diesel</td>\n",
       "      <td>Manuelle</td>\n",
       "      <td>7 CV</td>\n",
       "      <td>6 Images</td>\n",
       "      <td>Voitures d'occasion, à vendre</td>\n",
       "      <td>Saies</td>\n",
       "      <td>Dédouanée</td>\n",
       "      <td>Excellent</td>\n",
       "      <td>Jeep</td>\n",
       "      <td>CJ5</td>\n",
       "      <td>1990</td>\n",
       "      <td>3.0</td>\n",
       "      <td>Non</td>\n",
       "      <td>25 000 - 29 999</td>\n",
       "      <td>['Sièges Cuir', 'Jantes Aluminium', 'CD/MP3/Bl...</td>\n",
       "    </tr>\n",
       "    <tr>\n",
       "      <th>4</th>\n",
       "      <td>Range Rover Sport Autobiographie Pack SVR</td>\n",
       "      <td>AUTO REDA</td>\n",
       "      <td>680 000 DH</td>\n",
       "      <td>Casablanca</td>\n",
       "      <td>Diesel</td>\n",
       "      <td>Automatique</td>\n",
       "      <td>12 CV</td>\n",
       "      <td>13 Images</td>\n",
       "      <td>Voitures d'occasion, à vendre</td>\n",
       "      <td>Maarif</td>\n",
       "      <td>NaN</td>\n",
       "      <td>Excellent</td>\n",
       "      <td>Land Rover</td>\n",
       "      <td>Range Rover Sport</td>\n",
       "      <td>2020</td>\n",
       "      <td>5.0</td>\n",
       "      <td>Oui</td>\n",
       "      <td>80 000 - 84 999</td>\n",
       "      <td>['ESP', 'Caméra De Recul', 'Limiteur De Vitess...</td>\n",
       "    </tr>\n",
       "    <tr>\n",
       "      <th>...</th>\n",
       "      <td>...</td>\n",
       "      <td>...</td>\n",
       "      <td>...</td>\n",
       "      <td>...</td>\n",
       "      <td>...</td>\n",
       "      <td>...</td>\n",
       "      <td>...</td>\n",
       "      <td>...</td>\n",
       "      <td>...</td>\n",
       "      <td>...</td>\n",
       "      <td>...</td>\n",
       "      <td>...</td>\n",
       "      <td>...</td>\n",
       "      <td>...</td>\n",
       "      <td>...</td>\n",
       "      <td>...</td>\n",
       "      <td>...</td>\n",
       "      <td>...</td>\n",
       "      <td>...</td>\n",
       "    </tr>\n",
       "    <tr>\n",
       "      <th>3133</th>\n",
       "      <td>Jaguar F-Pace Diesel Automatique 2018</td>\n",
       "      <td>Smeia - BMW Occasion</td>\n",
       "      <td>311 000 DH</td>\n",
       "      <td>Casablanca</td>\n",
       "      <td>Diesel</td>\n",
       "      <td>Automatique</td>\n",
       "      <td>8 CV</td>\n",
       "      <td>8 Images</td>\n",
       "      <td>Voitures d'occasion, à vendre</td>\n",
       "      <td>Ain Sebaa</td>\n",
       "      <td>WW au Maroc</td>\n",
       "      <td>Excellent</td>\n",
       "      <td>Jaguar</td>\n",
       "      <td>F-PACE</td>\n",
       "      <td>2018</td>\n",
       "      <td>5.0</td>\n",
       "      <td>Oui</td>\n",
       "      <td>100 000 - 109 999</td>\n",
       "      <td>['Verrouillage Centralisé À Distance', 'Limite...</td>\n",
       "    </tr>\n",
       "    <tr>\n",
       "      <th>3134</th>\n",
       "      <td>Volkswagen Tiguan Diesel Manuelle 2012 à Meknès</td>\n",
       "      <td>Garage autoouzi</td>\n",
       "      <td>PRIX NON SPÉCIFIÉ</td>\n",
       "      <td>Meknès</td>\n",
       "      <td>Diesel</td>\n",
       "      <td>Manuelle</td>\n",
       "      <td>8 CV</td>\n",
       "      <td>8 Images</td>\n",
       "      <td>Voitures d'occasion, à vendre</td>\n",
       "      <td>Hamria</td>\n",
       "      <td>Dédouanée</td>\n",
       "      <td>Excellent</td>\n",
       "      <td>Volkswagen</td>\n",
       "      <td>Tiguan</td>\n",
       "      <td>2012</td>\n",
       "      <td>3.0</td>\n",
       "      <td>Oui</td>\n",
       "      <td>200 000 - 249 999</td>\n",
       "      <td>['Système De Navigation/GPS', 'Radar De Recul'...</td>\n",
       "    </tr>\n",
       "    <tr>\n",
       "      <th>3135</th>\n",
       "      <td>Ford Focus Diesel Manuelle 2011 à Tétouan</td>\n",
       "      <td>NaN</td>\n",
       "      <td>PRIX NON SPÉCIFIÉ</td>\n",
       "      <td>Tétouan</td>\n",
       "      <td>Diesel</td>\n",
       "      <td>Manuelle</td>\n",
       "      <td>7 CV</td>\n",
       "      <td>9 Images</td>\n",
       "      <td>Voitures d'occasion, à vendre</td>\n",
       "      <td>Centre ville</td>\n",
       "      <td>WW au Maroc</td>\n",
       "      <td>Excellent</td>\n",
       "      <td>Ford</td>\n",
       "      <td>Focus</td>\n",
       "      <td>2011</td>\n",
       "      <td>5.0</td>\n",
       "      <td>Non</td>\n",
       "      <td>130 000 - 139 999</td>\n",
       "      <td>['Jantes Aluminium', 'Airbags', 'Climatisation']</td>\n",
       "    </tr>\n",
       "    <tr>\n",
       "      <th>3136</th>\n",
       "      <td>Seat Arona Essence Automatique 2023 à Casablanca</td>\n",
       "      <td>NaN</td>\n",
       "      <td>PRIX NON SPÉCIFIÉ</td>\n",
       "      <td>Casablanca</td>\n",
       "      <td>Essence</td>\n",
       "      <td>Automatique</td>\n",
       "      <td>7 CV</td>\n",
       "      <td>10 Images</td>\n",
       "      <td>Voitures d'occasion, à vendre</td>\n",
       "      <td>Belvédère</td>\n",
       "      <td>WW au Maroc</td>\n",
       "      <td>Excellent</td>\n",
       "      <td>Seat</td>\n",
       "      <td>Arona</td>\n",
       "      <td>2023</td>\n",
       "      <td>5.0</td>\n",
       "      <td>Oui</td>\n",
       "      <td>5 000 - 9 999</td>\n",
       "      <td>['Limiteur De Vitesse', 'Jantes Aluminium', 'S...</td>\n",
       "    </tr>\n",
       "    <tr>\n",
       "      <th>3137</th>\n",
       "      <td>Alfa Romeo Stelvio Diesel Automatique 2019</td>\n",
       "      <td>NaN</td>\n",
       "      <td>319 000 DH</td>\n",
       "      <td>Casablanca</td>\n",
       "      <td>Diesel</td>\n",
       "      <td>Automatique</td>\n",
       "      <td>8 CV</td>\n",
       "      <td>13 Images</td>\n",
       "      <td>Voitures d'occasion, à vendre</td>\n",
       "      <td>Lissasfa</td>\n",
       "      <td>NaN</td>\n",
       "      <td>Excellent</td>\n",
       "      <td>Alfa Romeo</td>\n",
       "      <td>Stelvio</td>\n",
       "      <td>2019</td>\n",
       "      <td>NaN</td>\n",
       "      <td>NaN</td>\n",
       "      <td>65 000 - 69 999</td>\n",
       "      <td>[]</td>\n",
       "    </tr>\n",
       "  </tbody>\n",
       "</table>\n",
       "<p>3138 rows × 19 columns</p>\n",
       "</div>"
      ],
      "text/plain": [
       "                                                  Titre  \\\n",
       "0     Toyota Corolla Hybride Automatique 2019 à Tétouan   \n",
       "1     Toyota Corolla Hybride Automatique 2019 à Tétouan   \n",
       "2                     Transport des denrées périssables   \n",
       "3                  Jeep CJ 5 Diesel Manuelle 1990 à Fès   \n",
       "4             Range Rover Sport Autobiographie Pack SVR   \n",
       "...                                                 ...   \n",
       "3133              Jaguar F-Pace Diesel Automatique 2018   \n",
       "3134    Volkswagen Tiguan Diesel Manuelle 2012 à Meknès   \n",
       "3135          Ford Focus Diesel Manuelle 2011 à Tétouan   \n",
       "3136   Seat Arona Essence Automatique 2023 à Casablanca   \n",
       "3137         Alfa Romeo Stelvio Diesel Automatique 2019   \n",
       "\n",
       "                             Vendeur               Prix       Ville Carburant  \\\n",
       "0                    auto confort 44         205 000 DH     Tétouan   Hybride   \n",
       "1                    auto confort 44         205 000 DH     Tétouan   Hybride   \n",
       "2     FROZEN carosserie frigorifique               1 DH  Casablanca    Diesel   \n",
       "3                            yassine  PRIX NON SPÉCIFIÉ         Fès    Diesel   \n",
       "4                          AUTO REDA         680 000 DH  Casablanca    Diesel   \n",
       "...                              ...                ...         ...       ...   \n",
       "3133            Smeia - BMW Occasion         311 000 DH  Casablanca    Diesel   \n",
       "3134                 Garage autoouzi  PRIX NON SPÉCIFIÉ      Meknès    Diesel   \n",
       "3135                             NaN  PRIX NON SPÉCIFIÉ     Tétouan    Diesel   \n",
       "3136                             NaN  PRIX NON SPÉCIFIÉ  Casablanca   Essence   \n",
       "3137                             NaN         319 000 DH  Casablanca    Diesel   \n",
       "\n",
       "     Boite à vitesses Puissance Fiscale Nombre des images  \\\n",
       "0         Automatique              8 CV          9 Images   \n",
       "1         Automatique              8 CV          9 Images   \n",
       "2            Manuelle              6 CV          6 Images   \n",
       "3            Manuelle              7 CV          6 Images   \n",
       "4         Automatique             12 CV         13 Images   \n",
       "...               ...               ...               ...   \n",
       "3133      Automatique              8 CV          8 Images   \n",
       "3134         Manuelle              8 CV          8 Images   \n",
       "3135         Manuelle              7 CV          9 Images   \n",
       "3136      Automatique              7 CV         10 Images   \n",
       "3137      Automatique              8 CV         13 Images   \n",
       "\n",
       "                               Type       Secteur      Origine       État  \\\n",
       "0     Voitures d'occasion, à vendre         Safir  WW au Maroc       Neuf   \n",
       "1     Voitures d'occasion, à vendre         Safir  WW au Maroc       Neuf   \n",
       "2     Voitures d'occasion, à vendre     Aïn Chock  WW au Maroc   Très bon   \n",
       "3     Voitures d'occasion, à vendre         Saies    Dédouanée  Excellent   \n",
       "4     Voitures d'occasion, à vendre        Maarif          NaN  Excellent   \n",
       "...                             ...           ...          ...        ...   \n",
       "3133  Voitures d'occasion, à vendre     Ain Sebaa  WW au Maroc  Excellent   \n",
       "3134  Voitures d'occasion, à vendre        Hamria    Dédouanée  Excellent   \n",
       "3135  Voitures d'occasion, à vendre  Centre ville  WW au Maroc  Excellent   \n",
       "3136  Voitures d'occasion, à vendre     Belvédère  WW au Maroc  Excellent   \n",
       "3137  Voitures d'occasion, à vendre      Lissasfa          NaN  Excellent   \n",
       "\n",
       "          Marque             Modèle Année-Modèle  Nombre de portes  \\\n",
       "0         Toyota            Corolla         2019               5.0   \n",
       "1         Toyota            Corolla         2019               5.0   \n",
       "2        Renault        express_van         2023               5.0   \n",
       "3           Jeep                CJ5         1990               3.0   \n",
       "4     Land Rover  Range Rover Sport         2020               5.0   \n",
       "...          ...                ...          ...               ...   \n",
       "3133      Jaguar             F-PACE         2018               5.0   \n",
       "3134  Volkswagen             Tiguan         2012               3.0   \n",
       "3135        Ford              Focus         2011               5.0   \n",
       "3136        Seat              Arona         2023               5.0   \n",
       "3137  Alfa Romeo            Stelvio         2019               NaN   \n",
       "\n",
       "     Première main        Kilométrage  \\\n",
       "0              Non    50 000 - 54 999   \n",
       "1              Non    50 000 - 54 999   \n",
       "2              Oui      5 000 - 9 999   \n",
       "3              Non    25 000 - 29 999   \n",
       "4              Oui    80 000 - 84 999   \n",
       "...            ...                ...   \n",
       "3133           Oui  100 000 - 109 999   \n",
       "3134           Oui  200 000 - 249 999   \n",
       "3135           Non  130 000 - 139 999   \n",
       "3136           Oui      5 000 - 9 999   \n",
       "3137           NaN    65 000 - 69 999   \n",
       "\n",
       "                                            Equipements  \n",
       "0     ['Système De Navigation/GPS', 'Verrouillage Ce...  \n",
       "1     ['Ordinateur De Bord', 'Régulateur De Vitesse'...  \n",
       "2     ['Sièges Cuir', 'Ordinateur De Bord', 'Caméra ...  \n",
       "3     ['Sièges Cuir', 'Jantes Aluminium', 'CD/MP3/Bl...  \n",
       "4     ['ESP', 'Caméra De Recul', 'Limiteur De Vitess...  \n",
       "...                                                 ...  \n",
       "3133  ['Verrouillage Centralisé À Distance', 'Limite...  \n",
       "3134  ['Système De Navigation/GPS', 'Radar De Recul'...  \n",
       "3135   ['Jantes Aluminium', 'Airbags', 'Climatisation']  \n",
       "3136  ['Limiteur De Vitesse', 'Jantes Aluminium', 'S...  \n",
       "3137                                                 []  \n",
       "\n",
       "[3138 rows x 19 columns]"
      ]
     },
     "execution_count": 78,
     "metadata": {},
     "output_type": "execute_result"
    }
   ],
   "source": [
    "dataset = pd.read_csv('avito_data.csv')\n",
    "dataset"
   ]
  },
  {
   "cell_type": "markdown",
   "metadata": {},
   "source": [
    "<h5>Our dataset contains 3137 rows of data!</h5>"
   ]
  },
  {
   "cell_type": "code",
   "execution_count": 79,
   "metadata": {},
   "outputs": [],
   "source": [
    "csv_file.close()\n",
    "driver.quit()"
   ]
  }
 ],
 "metadata": {
  "kernelspec": {
   "display_name": "Python 3",
   "language": "python",
   "name": "python3"
  },
  "language_info": {
   "codemirror_mode": {
    "name": "ipython",
    "version": 3
   },
   "file_extension": ".py",
   "mimetype": "text/x-python",
   "name": "python",
   "nbconvert_exporter": "python",
   "pygments_lexer": "ipython3",
   "version": "3.11.2"
  }
 },
 "nbformat": 4,
 "nbformat_minor": 2
}
